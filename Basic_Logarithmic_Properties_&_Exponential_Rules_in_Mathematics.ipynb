{
  "nbformat": 4,
  "nbformat_minor": 0,
  "metadata": {
    "colab": {
      "private_outputs": true,
      "provenance": [],
      "authorship_tag": "ABX9TyPMNxPKNkPZysnphQ/6rKP7",
      "include_colab_link": true
    },
    "kernelspec": {
      "name": "python3",
      "display_name": "Python 3"
    },
    "language_info": {
      "name": "python"
    }
  },
  "cells": [
    {
      "cell_type": "markdown",
      "metadata": {
        "id": "view-in-github",
        "colab_type": "text"
      },
      "source": [
        "<a href=\"https://colab.research.google.com/github/jahannusrat8052/linear-algebra-for-ml-ai/blob/main/Basic_Logarithmic_Properties_%26_Exponential_Rules_in_Mathematics.ipynb\" target=\"_parent\"><img src=\"https://colab.research.google.com/assets/colab-badge.svg\" alt=\"Open In Colab\"/></a>"
      ]
    },
    {
      "cell_type": "code",
      "execution_count": null,
      "metadata": {
        "id": "jGtOV97guIeb"
      },
      "outputs": [],
      "source": [
        "import math\n",
        "\n",
        "# Exponential\n",
        "print(2**3 * 2**4)       # 128\n",
        "print(5**6 / 5**2)       # 625\n",
        "print((3**2)**4)         # 6561\n",
        "print((2*3)**2)          # 36\n",
        "\n",
        "# Logarithm\n",
        "print(math.log(8, 2))    # 3.0\n",
        "print(math.log(10*100))  # 6.9077\n",
        "print(math.log(100/10))  # 2.3025\n",
        "print(3*math.log(10))    # 6.9077\n"
      ]
    }
  ]
}