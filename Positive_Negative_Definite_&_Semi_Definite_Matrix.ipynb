{
  "nbformat": 4,
  "nbformat_minor": 0,
  "metadata": {
    "colab": {
      "private_outputs": true,
      "provenance": [],
      "authorship_tag": "ABX9TyN3dlEgrzd0rFNuIKh0ZJi/",
      "include_colab_link": true
    },
    "kernelspec": {
      "name": "python3",
      "display_name": "Python 3"
    },
    "language_info": {
      "name": "python"
    }
  },
  "cells": [
    {
      "cell_type": "markdown",
      "metadata": {
        "id": "view-in-github",
        "colab_type": "text"
      },
      "source": [
        "<a href=\"https://colab.research.google.com/github/jahannusrat8052/linear-algebra-for-ml-ai/blob/main/Positive_Negative_Definite_%26_Semi_Definite_Matrix.ipynb\" target=\"_parent\"><img src=\"https://colab.research.google.com/assets/colab-badge.svg\" alt=\"Open In Colab\"/></a>"
      ]
    },
    {
      "cell_type": "code",
      "execution_count": null,
      "metadata": {
        "id": "PwXZGzgLvulU"
      },
      "outputs": [],
      "source": [
        "import numpy as np\n",
        "\n",
        "def check_definiteness(A):\n",
        "    eigvals = np.linalg.eigvals(A)\n",
        "    if np.all(eigvals > 0):\n",
        "        return \"Positive Definite\"\n",
        "    elif np.all(eigvals >= 0):\n",
        "        return \"Positive Semi-Definite\"\n",
        "    elif np.all(eigvals < 0):\n",
        "        return \"Negative Definite\"\n",
        "    elif np.all(eigvals <= 0):\n",
        "        return \"Negative Semi-Definite\"\n",
        "    else:\n",
        "        return \"Indefinite\"\n",
        "\n",
        "# Example matrices\n",
        "A1 = np.array([[2, -1], [-1, 2]])   # PD\n",
        "A2 = np.array([[2, -2], [-2, 2]])   # PSD\n",
        "A3 = np.array([[-3, 0], [0, -5]])   # ND\n",
        "A4 = np.array([[1, 2], [2, -3]])    # Indefinite\n",
        "\n",
        "for i, A in enumerate([A1, A2, A3, A4], start=1):\n",
        "    print(f\"Matrix A{i} is {check_definiteness(A)}\")\n"
      ]
    }
  ]
}