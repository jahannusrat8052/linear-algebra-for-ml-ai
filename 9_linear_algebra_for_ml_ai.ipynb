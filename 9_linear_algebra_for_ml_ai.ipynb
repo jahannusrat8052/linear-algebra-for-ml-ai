{
  "nbformat": 4,
  "nbformat_minor": 0,
  "metadata": {
    "colab": {
      "private_outputs": true,
      "provenance": [],
      "authorship_tag": "ABX9TyOwZ6ZDG2Qtyy8U7x0s0OKh",
      "include_colab_link": true
    },
    "kernelspec": {
      "name": "python3",
      "display_name": "Python 3"
    },
    "language_info": {
      "name": "python"
    }
  },
  "cells": [
    {
      "cell_type": "markdown",
      "metadata": {
        "id": "view-in-github",
        "colab_type": "text"
      },
      "source": [
        "<a href=\"https://colab.research.google.com/github/jahannusrat8052/linear-algebra-for-ml-ai/blob/main/9_linear_algebra_for_ml_ai.ipynb\" target=\"_parent\"><img src=\"https://colab.research.google.com/assets/colab-badge.svg\" alt=\"Open In Colab\"/></a>"
      ]
    },
    {
      "cell_type": "code",
      "execution_count": null,
      "metadata": {
        "id": "JLYXprHprdrX"
      },
      "outputs": [],
      "source": [
        "# 📌 Variance, Covariance, Correlation & Covariance Matrix in Python (Colab)\n",
        "\n",
        "import numpy as np\n",
        "import pandas as pd\n",
        "\n",
        "# Example dataset\n",
        "data = {\n",
        "    \"X\": [2, 4, 6, 8, 10],\n",
        "    \"Y\": [1, 3, 5, 7, 9],\n",
        "    \"Z\": [10, 9, 2, 6, 4]\n",
        "}\n",
        "df = pd.DataFrame(data)\n",
        "print(\"Dataset:\\n\", df)\n",
        "\n",
        "# 1️⃣ Variance\n",
        "# Formula: Var(X) = Σ (x - mean)^2 / (n-1)\n",
        "variance_X_manual = np.var(df[\"X\"], ddof=1)  # manual (numpy, sample variance)\n",
        "variance_X_pandas = df[\"X\"].var()\n",
        "\n",
        "print(\"\\nVariance of X (NumPy):\", variance_X_manual)\n",
        "print(\"Variance of X (Pandas):\", variance_X_pandas)\n",
        "\n",
        "# 2️⃣ Covariance\n",
        "# Formula: Cov(X, Y) = Σ (x - mean_x)(y - mean_y) / (n-1)\n",
        "cov_XY_manual = np.cov(df[\"X\"], df[\"Y\"], ddof=1)[0,1]\n",
        "cov_matrix_numpy = np.cov(df[\"X\"], df[\"Y\"], ddof=1)\n",
        "cov_matrix_pandas = df[[\"X\", \"Y\"]].cov()\n",
        "\n",
        "print(\"\\nCovariance(X, Y) (NumPy manual):\", cov_XY_manual)\n",
        "print(\"Covariance Matrix (NumPy):\\n\", cov_matrix_numpy)\n",
        "print(\"Covariance Matrix (Pandas):\\n\", cov_matrix_pandas)\n",
        "\n",
        "# 3️⃣ Correlation\n",
        "# Formula: Corr(X, Y) = Cov(X, Y) / (σx * σy)\n",
        "corr_XY_manual = np.corrcoef(df[\"X\"], df[\"Y\"])[0,1]\n",
        "corr_matrix_numpy = np.corrcoef(df.T)\n",
        "corr_matrix_pandas = df.corr()\n",
        "\n",
        "print(\"\\nCorrelation(X, Y) (NumPy):\", corr_XY_manual)\n",
        "print(\"Correlation Matrix (NumPy):\\n\", corr_matrix_numpy)\n",
        "print(\"Correlation Matrix (Pandas):\\n\", corr_matrix_pandas)\n",
        "\n",
        "# 4️⃣ Covariance Matrix (Part 2: with multiple variables)\n",
        "cov_matrix_all_numpy = np.cov(df.T, ddof=1)\n",
        "cov_matrix_all_pandas = df.cov()\n",
        "\n",
        "print(\"\\nFull Covariance Matrix (NumPy):\\n\", cov_matrix_all_numpy)\n",
        "print(\"Full Covariance Matrix (Pandas):\\n\", cov_matrix_all_pandas)\n",
        "\n",
        "# 5️⃣ Correlation Matrix for all variables\n",
        "corr_matrix_all_numpy = np.corrcoef(df.T)\n",
        "corr_matrix_all_pandas = df.corr()\n",
        "\n",
        "print(\"\\nFull Correlation Matrix (NumPy):\\n\", corr_matrix_all_numpy)\n",
        "print(\"Full Correlation Matrix (Pandas):\\n\", corr_matrix_all_pandas)\n"
      ]
    }
  ]
}