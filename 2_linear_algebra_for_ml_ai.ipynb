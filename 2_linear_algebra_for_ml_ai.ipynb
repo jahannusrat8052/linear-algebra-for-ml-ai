{
  "nbformat": 4,
  "nbformat_minor": 0,
  "metadata": {
    "colab": {
      "private_outputs": true,
      "provenance": [],
      "authorship_tag": "ABX9TyPs6/cgGaT7gzePmA2XTwjy",
      "include_colab_link": true
    },
    "kernelspec": {
      "name": "python3",
      "display_name": "Python 3"
    },
    "language_info": {
      "name": "python"
    }
  },
  "cells": [
    {
      "cell_type": "markdown",
      "metadata": {
        "id": "view-in-github",
        "colab_type": "text"
      },
      "source": [
        "<a href=\"https://colab.research.google.com/github/jahannusrat8052/linear-algebra-for-ml-ai/blob/main/2_linear_algebra_for_ml_ai.ipynb\" target=\"_parent\"><img src=\"https://colab.research.google.com/assets/colab-badge.svg\" alt=\"Open In Colab\"/></a>"
      ]
    },
    {
      "cell_type": "code",
      "execution_count": null,
      "metadata": {
        "id": "58RSZreurn-d"
      },
      "outputs": [],
      "source": [
        "# Step 2: Sets, Vector Spaces, Linear Independence, Norms\n",
        "\n",
        "import numpy as np\n",
        "\n",
        "# -----------------------\n",
        "# 1️⃣ Sets of Vectors\n",
        "# A set of vectors can be represented as a list of numpy arrays\n",
        "v1 = np.array([1, 2, 3])\n",
        "v2 = np.array([4, 5, 6])\n",
        "v3 = np.array([7, 8, 9])\n",
        "\n",
        "vector_set = [v1, v2, v3]\n",
        "print(\"Set of vectors:\")\n",
        "for i, v in enumerate(vector_set):\n",
        "    print(f\"v{i+1}:\", v)\n",
        "\n",
        "# -----------------------\n",
        "# 2️⃣ Vector Space\n",
        "# A vector space is closed under addition and scalar multiplication\n",
        "# Let's test closure\n",
        "scalar = 3\n",
        "sum_vector = v1 + v2\n",
        "scaled_vector = scalar * v1\n",
        "\n",
        "print(\"\\nSum of v1 + v2:\", sum_vector)\n",
        "print(\"Scalar multiplication 3*v1:\", scaled_vector)\n",
        "\n",
        "# -----------------------\n",
        "# 3️⃣ Linear Independence\n",
        "# Check if vectors are linearly independent using matrix rank\n",
        "matrix = np.column_stack((v1, v2, v3))  # make matrix with vectors as columns\n",
        "rank = np.linalg.matrix_rank(matrix)\n",
        "print(\"\\nMatrix formed by vectors as columns:\\n\", matrix)\n",
        "print(\"Rank of matrix:\", rank)\n",
        "if rank == len(vector_set):\n",
        "    print(\"Vectors are linearly independent\")\n",
        "else:\n",
        "    print(\"Vectors are linearly dependent\")\n",
        "\n",
        "# -----------------------\n",
        "# 4️⃣ Norms of Vectors\n",
        "# Norm = length of vector\n",
        "v = np.array([3, 4])\n",
        "norm_v = np.linalg.norm(v)\n",
        "print(\"\\nVector v:\", v)\n",
        "print(\"Norm of v:\", norm_v)\n",
        "\n",
        "# Different types of norms\n",
        "v = np.array([1, -2, 3])\n",
        "l1_norm = np.linalg.norm(v, 1)  # sum of absolute values\n",
        "l2_norm = np.linalg.norm(v)     # default is L2 norm\n",
        "inf_norm = np.linalg.norm(v, np.inf)  # max absolute value\n",
        "\n",
        "print(\"\\nVector v:\", v)\n",
        "print(\"L1 Norm:\", l1_norm)\n",
        "print(\"L2 Norm:\", l2_norm)\n",
        "print(\"Infinity Norm:\", inf_norm)\n",
        "\n",
        "# -----------------------\n",
        "# 5️⃣ Quick Practice: Check if vectors are orthogonal\n",
        "v1 = np.array([1, 0])\n",
        "v2 = np.array([0, 1])\n",
        "dot_product = np.dot(v1, v2)\n",
        "print(\"\\nDot product of v1 and v2:\", dot_product)\n",
        "if dot_product == 0:\n",
        "    print(\"v1 and v2 are orthogonal\")\n",
        "else:\n",
        "    print(\"v1 and v2 are not orthogonal\")\n"
      ]
    }
  ]
}