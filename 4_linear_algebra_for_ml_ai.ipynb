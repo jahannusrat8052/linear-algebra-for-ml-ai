{
  "nbformat": 4,
  "nbformat_minor": 0,
  "metadata": {
    "colab": {
      "private_outputs": true,
      "provenance": [],
      "authorship_tag": "ABX9TyOcelQt58+kqeEHvqAM1mLW",
      "include_colab_link": true
    },
    "kernelspec": {
      "name": "python3",
      "display_name": "Python 3"
    },
    "language_info": {
      "name": "python"
    }
  },
  "cells": [
    {
      "cell_type": "markdown",
      "metadata": {
        "id": "view-in-github",
        "colab_type": "text"
      },
      "source": [
        "<a href=\"https://colab.research.google.com/github/jahannusrat8052/linear-algebra-for-ml-ai/blob/main/4_linear_algebra_for_ml_ai.ipynb\" target=\"_parent\"><img src=\"https://colab.research.google.com/assets/colab-badge.svg\" alt=\"Open In Colab\"/></a>"
      ]
    },
    {
      "cell_type": "code",
      "execution_count": null,
      "metadata": {
        "id": "ZpzC-mxZXCP-"
      },
      "outputs": [],
      "source": [
        "# Matrix Operations in Python (NumPy)\n",
        "import numpy as np\n",
        "\n",
        "# 1️⃣ Matrix Creation\n",
        "A = np.array([[1, 2], [3, 4]])\n",
        "B = np.array([[5, 6], [7, 8]])\n",
        "\n",
        "print(\"Matrix A:\\n\", A)\n",
        "print(\"Matrix B:\\n\", B)\n",
        "\n",
        "# 2️⃣ Matrix Multiplication\n",
        "C = np.dot(A, B)\n",
        "print(\"\\nMatrix Multiplication (A * B):\\n\", C)\n",
        "\n",
        "# 3️⃣ Diagonal of a Matrix\n",
        "diag_A = np.diag(A)\n",
        "print(\"\\nDiagonal of Matrix A:\\n\", diag_A)\n",
        "\n",
        "# 4️⃣ Transpose of a Matrix\n",
        "transpose_A = np.transpose(A)\n",
        "print(\"\\nTranspose of Matrix A:\\n\", transpose_A)\n",
        "\n",
        "# 5️⃣ Identity Matrix\n",
        "I = np.eye(3)\n",
        "print(\"\\n3x3 Identity Matrix:\\n\", I)\n",
        "\n",
        "# 6️⃣ Check Orthogonal Matrix\n",
        "# Orthogonal if A.T * A = I\n",
        "def is_orthogonal(matrix):\n",
        "    transpose = np.transpose(matrix)\n",
        "    identity_check = np.allclose(np.dot(transpose, matrix), np.eye(matrix.shape[0]))\n",
        "    return identity_check\n",
        "\n",
        "# Example Orthogonal Matrix\n",
        "Q = np.array([[1, 0], [0, -1]])\n",
        "print(\"\\nMatrix Q:\\n\", Q)\n",
        "print(\"Is Q orthogonal?\", is_orthogonal(Q))\n"
      ]
    }
  ]
}