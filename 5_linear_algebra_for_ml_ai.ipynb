{
  "nbformat": 4,
  "nbformat_minor": 0,
  "metadata": {
    "colab": {
      "private_outputs": true,
      "provenance": [],
      "authorship_tag": "ABX9TyOPBkEI/W+CcvN159N7aL9u",
      "include_colab_link": true
    },
    "kernelspec": {
      "name": "python3",
      "display_name": "Python 3"
    },
    "language_info": {
      "name": "python"
    }
  },
  "cells": [
    {
      "cell_type": "markdown",
      "metadata": {
        "id": "view-in-github",
        "colab_type": "text"
      },
      "source": [
        "<a href=\"https://colab.research.google.com/github/jahannusrat8052/linear-algebra-for-ml-ai/blob/main/5_linear_algebra_for_ml_ai.ipynb\" target=\"_parent\"><img src=\"https://colab.research.google.com/assets/colab-badge.svg\" alt=\"Open In Colab\"/></a>"
      ]
    },
    {
      "cell_type": "code",
      "execution_count": null,
      "metadata": {
        "id": "9yswAOuYlwkg"
      },
      "outputs": [],
      "source": [
        "# 📌 Matrix Operations in Python (Google Colab)\n",
        "\n",
        "import numpy as np\n",
        "from scipy import sparse\n",
        "\n",
        "# Example Matrix\n",
        "A = np.array([[4, 2],\n",
        "              [3, 1]])\n",
        "\n",
        "print(\"Matrix A:\\n\", A)\n",
        "\n",
        "# 1️⃣ Determinant\n",
        "det_A = np.linalg.det(A)\n",
        "print(\"\\nDeterminant of A:\", det_A)\n",
        "\n",
        "# 2️⃣ Singular & Non-Singular Matrix\n",
        "if np.isclose(det_A, 0):\n",
        "    print(\"Matrix A is Singular (No Inverse exists).\")\n",
        "else:\n",
        "    print(\"Matrix A is Non-Singular (Inverse exists).\")\n",
        "\n",
        "# 3️⃣ Inverse Matrix (only if Non-Singular)\n",
        "if not np.isclose(det_A, 0):\n",
        "    inv_A = np.linalg.inv(A)\n",
        "    print(\"\\nInverse of A:\\n\", inv_A)\n",
        "\n",
        "# 4️⃣ Sparse vs Dense Matrix\n",
        "dense_matrix = np.array([[0, 0, 3],\n",
        "                         [0, 0, 0],\n",
        "                         [0, 4, 0]])\n",
        "\n",
        "sparse_matrix = sparse.csr_matrix(dense_matrix)\n",
        "\n",
        "print(\"\\nDense Matrix:\\n\", dense_matrix)\n",
        "print(\"\\nSparse Matrix (Compressed Representation):\\n\", sparse_matrix)\n",
        "\n",
        "# Convert sparse back to dense\n",
        "print(\"\\nSparse -> Dense:\\n\", sparse_matrix.toarray())\n"
      ]
    }
  ]
}