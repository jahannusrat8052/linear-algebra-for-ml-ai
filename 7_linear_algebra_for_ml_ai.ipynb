{
  "nbformat": 4,
  "nbformat_minor": 0,
  "metadata": {
    "colab": {
      "private_outputs": true,
      "provenance": [],
      "authorship_tag": "ABX9TyP22jpbVES/78djVAx12IZy",
      "include_colab_link": true
    },
    "kernelspec": {
      "name": "python3",
      "display_name": "Python 3"
    },
    "language_info": {
      "name": "python"
    }
  },
  "cells": [
    {
      "cell_type": "markdown",
      "metadata": {
        "id": "view-in-github",
        "colab_type": "text"
      },
      "source": [
        "<a href=\"https://colab.research.google.com/github/jahannusrat8052/linear-algebra-for-ml-ai/blob/main/7_linear_algebra_for_ml_ai.ipynb\" target=\"_parent\"><img src=\"https://colab.research.google.com/assets/colab-badge.svg\" alt=\"Open In Colab\"/></a>"
      ]
    },
    {
      "cell_type": "code",
      "execution_count": null,
      "metadata": {
        "id": "u51AxXuAv1R5"
      },
      "outputs": [],
      "source": [
        "# 📌 Alternatives to Matrix Division in Python (Colab)\n",
        "\n",
        "import numpy as np\n",
        "\n",
        "# Example Matrices\n",
        "A = np.array([[3, 1],\n",
        "              [1, 2]])\n",
        "B = np.array([[9],\n",
        "              [8]])\n",
        "\n",
        "print(\"Matrix A:\\n\", A)\n",
        "print(\"Matrix B:\\n\", B)\n",
        "\n",
        "# 1️⃣ Inverse Method (works only if A is square & invertible)\n",
        "det_A = np.linalg.det(A)\n",
        "if not np.isclose(det_A, 0):\n",
        "    A_inv = np.linalg.inv(A)\n",
        "    X_inv = A_inv @ B\n",
        "    print(\"\\nSolution using Inverse (A^-1 * B):\\n\", X_inv)\n",
        "else:\n",
        "    print(\"\\nMatrix A is singular. Inverse does not exist.\")\n",
        "\n",
        "# 2️⃣ Using np.linalg.solve (Preferred & Stable)\n",
        "X_solve = np.linalg.solve(A, B)\n",
        "print(\"\\nSolution using np.linalg.solve (AX = B):\\n\", X_solve)\n",
        "\n",
        "# 3️⃣ Pseudo-Inverse (works even if A is not square or singular)\n",
        "A_pinv = np.linalg.pinv(A)\n",
        "X_pinv = A_pinv @ B\n",
        "print(\"\\nSolution using Pseudo-Inverse (A^+ * B):\\n\", X_pinv)\n",
        "\n",
        "# 4️⃣ Non-square Matrix Example (where inverse doesn’t exist)\n",
        "C = np.array([[1, 2, 3],\n",
        "              [4, 5, 6]])   # 2x3 matrix (not square)\n",
        "D = np.array([[7],\n",
        "              [8]])\n",
        "\n",
        "print(\"\\nNon-Square Matrix C:\\n\", C)\n",
        "print(\"Matrix D:\\n\", D)\n",
        "\n",
        "# Solve using pseudo-inverse (only option)\n",
        "C_pinv = np.linalg.pinv(C)\n",
        "X_C = C_pinv @ D\n",
        "print(\"\\nSolution for Non-Square Matrix using Pseudo-Inverse:\\n\", X_C)\n"
      ]
    }
  ]
}