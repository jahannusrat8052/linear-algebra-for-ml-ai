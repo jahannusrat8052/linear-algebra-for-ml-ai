{
  "nbformat": 4,
  "nbformat_minor": 0,
  "metadata": {
    "colab": {
      "provenance": [],
      "authorship_tag": "ABX9TyPiHqNxzY4CjHCe7e9zu4M8",
      "include_colab_link": true
    },
    "kernelspec": {
      "name": "python3",
      "display_name": "Python 3"
    },
    "language_info": {
      "name": "python"
    }
  },
  "cells": [
    {
      "cell_type": "markdown",
      "metadata": {
        "id": "view-in-github",
        "colab_type": "text"
      },
      "source": [
        "<a href=\"https://colab.research.google.com/github/jahannusrat8052/linear-algebra-for-ml-ai/blob/main/linear_algebra_for_ml_ai.ipynb\" target=\"_parent\"><img src=\"https://colab.research.google.com/assets/colab-badge.svg\" alt=\"Open In Colab\"/></a>"
      ]
    },
    {
      "cell_type": "code",
      "execution_count": 1,
      "metadata": {
        "colab": {
          "base_uri": "https://localhost:8080/"
        },
        "id": "whDjvVtgpbKr",
        "outputId": "f87d5849-f905-40e4-cd35-3c0db5e0a6ae"
      },
      "outputs": [
        {
          "output_type": "stream",
          "name": "stdout",
          "text": [
            "Scalar: 5\n",
            "Vector: [1 2 3]\n",
            "Vector shape: (3,)\n",
            "Vector length: 3\n",
            "Vector + 2: [3 4 5]\n",
            "Vector * 3: [3 6 9]\n",
            "Vector dot product with itself: 14\n",
            "Matrix:\n",
            " [[1 2 3]\n",
            " [4 5 6]\n",
            " [7 8 9]]\n",
            "Matrix shape: (3, 3)\n",
            "Matrix + 2:\n",
            " [[ 3  4  5]\n",
            " [ 6  7  8]\n",
            " [ 9 10 11]]\n",
            "Matrix * 3:\n",
            " [[ 3  6  9]\n",
            " [12 15 18]\n",
            " [21 24 27]]\n",
            "Matrix dot product with itself:\n",
            " [[ 30  36  42]\n",
            " [ 66  81  96]\n",
            " [102 126 150]]\n",
            "First element of vector: 1\n",
            "Second row, third column of matrix: 6\n",
            "Transpose of matrix:\n",
            " [[1 4 7]\n",
            " [2 5 8]\n",
            " [3 6 9]]\n",
            "Sum of vector: 6\n",
            "Mean of matrix: 5.0\n"
          ]
        }
      ],
      "source": [
        "# Step 1: Linear Algebra Basics - Scalars, Vectors, Matrices\n",
        "\n",
        "import numpy as np\n",
        "\n",
        "# -----------------------\n",
        "# 1️⃣ Scalars\n",
        "# A scalar is just a single number\n",
        "scalar = 5\n",
        "print(\"Scalar:\", scalar)\n",
        "\n",
        "# -----------------------\n",
        "# 2️⃣ Vectors\n",
        "# A vector is a 1D array of numbers\n",
        "vector = np.array([1, 2, 3])\n",
        "print(\"Vector:\", vector)\n",
        "print(\"Vector shape:\", vector.shape)\n",
        "print(\"Vector length:\", len(vector))\n",
        "\n",
        "# Vector operations\n",
        "print(\"Vector + 2:\", vector + 2)\n",
        "print(\"Vector * 3:\", vector * 3)\n",
        "print(\"Vector dot product with itself:\", np.dot(vector, vector))\n",
        "\n",
        "# -----------------------\n",
        "# 3️⃣ Matrices\n",
        "# A matrix is a 2D array of numbers\n",
        "matrix = np.array([[1, 2, 3],\n",
        "                   [4, 5, 6],\n",
        "                   [7, 8, 9]])\n",
        "print(\"Matrix:\\n\", matrix)\n",
        "print(\"Matrix shape:\", matrix.shape)\n",
        "\n",
        "# Matrix operations\n",
        "print(\"Matrix + 2:\\n\", matrix + 2)\n",
        "print(\"Matrix * 3:\\n\", matrix * 3)  # element-wise multiplication\n",
        "print(\"Matrix dot product with itself:\\n\", np.dot(matrix, matrix))\n",
        "\n",
        "# -----------------------\n",
        "# 4️⃣ Accessing elements\n",
        "print(\"First element of vector:\", vector[0])\n",
        "print(\"Second row, third column of matrix:\", matrix[1, 2])\n",
        "\n",
        "# -----------------------\n",
        "# 5️⃣ Transpose\n",
        "print(\"Transpose of matrix:\\n\", matrix.T)\n",
        "\n",
        "# -----------------------\n",
        "# 6️⃣ Sum and mean\n",
        "print(\"Sum of vector:\", np.sum(vector))\n",
        "print(\"Mean of matrix:\", np.mean(matrix))\n"
      ]
    }
  ]
}