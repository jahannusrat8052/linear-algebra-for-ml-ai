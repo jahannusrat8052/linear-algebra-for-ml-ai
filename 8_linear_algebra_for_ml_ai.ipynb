{
  "nbformat": 4,
  "nbformat_minor": 0,
  "metadata": {
    "colab": {
      "private_outputs": true,
      "provenance": [],
      "authorship_tag": "ABX9TyM8lMAeFS53/aTTMwTU2ZQH",
      "include_colab_link": true
    },
    "kernelspec": {
      "name": "python3",
      "display_name": "Python 3"
    },
    "language_info": {
      "name": "python"
    }
  },
  "cells": [
    {
      "cell_type": "markdown",
      "metadata": {
        "id": "view-in-github",
        "colab_type": "text"
      },
      "source": [
        "<a href=\"https://colab.research.google.com/github/jahannusrat8052/linear-algebra-for-ml-ai/blob/main/8_linear_algebra_for_ml_ai.ipynb\" target=\"_parent\"><img src=\"https://colab.research.google.com/assets/colab-badge.svg\" alt=\"Open In Colab\"/></a>"
      ]
    },
    {
      "cell_type": "code",
      "execution_count": null,
      "metadata": {
        "id": "hHWF9RYExnf3"
      },
      "outputs": [],
      "source": [
        "# 📌 Symmetric & Asymmetric Matrices in Python (Colab)\n",
        "\n",
        "import numpy as np\n",
        "\n",
        "# Symmetric Matrix Example\n",
        "A = np.array([[1, 2, 3],\n",
        "              [2, 5, 6],\n",
        "              [3, 6, 9]])\n",
        "\n",
        "# Asymmetric Matrix Example\n",
        "B = np.array([[1, 2, 3],\n",
        "              [0, 5, 6],\n",
        "              [7, 8, 9]])\n",
        "\n",
        "print(\"Matrix A:\\n\", A)\n",
        "print(\"Matrix B:\\n\", B)\n",
        "\n",
        "# Check Symmetry\n",
        "def is_symmetric(matrix):\n",
        "    return np.array_equal(matrix, matrix.T)\n",
        "\n",
        "print(\"\\nIs A Symmetric? \", is_symmetric(A))\n",
        "print(\"Is B Symmetric? \", is_symmetric(B))\n",
        "\n",
        "# Display transpose for clarity\n",
        "print(\"\\nTranspose of A:\\n\", A.T)\n",
        "print(\"Transpose of B:\\n\", B.T)\n"
      ]
    }
  ]
}


# 📌 Symmetric & Asymmetric Matrices in Python (Colab)

import numpy as np

# Function to check if a matrix is symmetric
def is_symmetric(matrix):
    return np.array_equal(matrix, matrix.T)

# Example Symmetric Matrix
A = np.array([[1, 2, 3],
              [2, 5, 6],
              [3, 6, 9]])

# Example Asymmetric Matrix
B = np.array([[1, 2, 3],
              [0, 5, 6],
              [7, 8, 9]])

print("Matrix A:\n", A)
print("Is A Symmetric? ", is_symmetric(A))

print("\nMatrix B:\n", B)
print("Is B Symmetric? ", is_symmetric(B))

print("\n--- Randomly Generated Matrices ---")

# Generate a random symmetric matrix
size = 4
R = np.random.randint(1, 10, (size, size))
Sym = (R + R.T) // 2   # make symmetric
print("\nRandom Symmetric Matrix:\n", Sym)
print("Is Symmetric? ", is_symmetric(Sym))

# Generate a random asymmetric matrix
Asym = np.random.randint(1, 10, (size, size))
while is_symmetric(Asym):  # ensure it's not symmetric
    Asym = np.random.randint(1, 10, (size, size))

print("\nRandom Asymmetric Matrix:\n", Asym)
print("Is Symmetric? ", is_symmetric(Asym))
