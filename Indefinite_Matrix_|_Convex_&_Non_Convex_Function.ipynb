{
  "nbformat": 4,
  "nbformat_minor": 0,
  "metadata": {
    "colab": {
      "private_outputs": true,
      "provenance": [],
      "authorship_tag": "ABX9TyOKIJV6ImZaq6+Dw348oLzY",
      "include_colab_link": true
    },
    "kernelspec": {
      "name": "python3",
      "display_name": "Python 3"
    },
    "language_info": {
      "name": "python"
    }
  },
  "cells": [
    {
      "cell_type": "markdown",
      "metadata": {
        "id": "view-in-github",
        "colab_type": "text"
      },
      "source": [
        "<a href=\"https://colab.research.google.com/github/jahannusrat8052/linear-algebra-for-ml-ai/blob/main/Indefinite_Matrix_%7C_Convex_%26_Non_Convex_Function.ipynb\" target=\"_parent\"><img src=\"https://colab.research.google.com/assets/colab-badge.svg\" alt=\"Open In Colab\"/></a>"
      ]
    },
    {
      "cell_type": "code",
      "execution_count": null,
      "metadata": {
        "id": "uV18VZopwhzp"
      },
      "outputs": [],
      "source": [
        "import numpy as np\n",
        "\n",
        "# Indefinite matrix example\n",
        "A = np.array([[1, 2],\n",
        "              [2, -3]])\n",
        "\n",
        "eigvals = np.linalg.eigvals(A)\n",
        "print(\"Eigenvalues:\", eigvals)\n",
        "if np.any(eigvals > 0) and np.any(eigvals < 0):\n",
        "    print(\"Matrix is Indefinite\")\n",
        "\n",
        "# Convex & Non-Convex functions (using second derivative)\n",
        "def f_convex(x):   # x^2\n",
        "    return x**2\n",
        "\n",
        "def f_nonconvex(x):  # x^3 - 3x\n",
        "    return x**3 - 3*x\n",
        "\n",
        "# Second derivatives\n",
        "def second_derivative_convex(x):\n",
        "    return 2  # always >=0 → convex\n",
        "\n",
        "def second_derivative_nonconvex(x):\n",
        "    return 6*x  # changes sign → non-convex\n",
        "\n",
        "print(\"Convex function second derivative at x=1:\", second_derivative_convex(1))\n",
        "print(\"Non-convex function second derivative at x=-1:\", second_derivative_nonconvex(-1))\n",
        "print(\"Non-convex function second derivative at x=1:\", second_derivative_nonconvex(1))\n"
      ]
    }
  ]
}