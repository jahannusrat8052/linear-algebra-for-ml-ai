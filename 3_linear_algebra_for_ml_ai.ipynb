{
  "nbformat": 4,
  "nbformat_minor": 0,
  "metadata": {
    "colab": {
      "private_outputs": true,
      "provenance": [],
      "authorship_tag": "ABX9TyPY3v6YeE5fmQmBZsf1tx8A",
      "include_colab_link": true
    },
    "kernelspec": {
      "name": "python3",
      "display_name": "Python 3"
    },
    "language_info": {
      "name": "python"
    }
  },
  "cells": [
    {
      "cell_type": "markdown",
      "metadata": {
        "id": "view-in-github",
        "colab_type": "text"
      },
      "source": [
        "<a href=\"https://colab.research.google.com/github/jahannusrat8052/linear-algebra-for-ml-ai/blob/main/3_linear_algebra_for_ml_ai.ipynb\" target=\"_parent\"><img src=\"https://colab.research.google.com/assets/colab-badge.svg\" alt=\"Open In Colab\"/></a>"
      ]
    },
    {
      "cell_type": "code",
      "execution_count": null,
      "metadata": {
        "id": "bNr_oMpRsc13"
      },
      "outputs": [],
      "source": [
        "# Step 3: Matrix Addition, Subtraction, Trace\n",
        "\n",
        "import numpy as np\n",
        "\n",
        "# -----------------------\n",
        "# 1️⃣ Define two matrices\n",
        "A = np.array([[1, 2, 3],\n",
        "              [4, 5, 6],\n",
        "              [7, 8, 9]])\n",
        "\n",
        "B = np.array([[9, 8, 7],\n",
        "              [6, 5, 4],\n",
        "              [3, 2, 1]])\n",
        "\n",
        "print(\"Matrix A:\\n\", A)\n",
        "print(\"Matrix B:\\n\", B)\n",
        "\n",
        "# -----------------------\n",
        "# 2️⃣ Matrix Addition\n",
        "C_add = A + B\n",
        "print(\"\\nA + B:\\n\", C_add)\n",
        "\n",
        "# -----------------------\n",
        "# 3️⃣ Matrix Subtraction\n",
        "C_sub = A - B\n",
        "print(\"\\nA - B:\\n\", C_sub)\n",
        "\n",
        "# -----------------------\n",
        "# 4️⃣ Matrix Trace\n",
        "# Trace = sum of diagonal elements\n",
        "trace_A = np.trace(A)\n",
        "trace_B = np.trace(B)\n",
        "print(\"\\nTrace of A:\", trace_A)\n",
        "print(\"Trace of B:\", trace_B)\n",
        "\n",
        "# -----------------------\n",
        "# 5️⃣ Optional: Element-wise operations\n",
        "print(\"\\nElement-wise multiplication A * B:\\n\", A * B)\n",
        "print(\"Element-wise division A / B:\\n\", A / B)\n"
      ]
    }
  ]
}